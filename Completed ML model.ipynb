{
 "cells": [
  {
   "cell_type": "code",
   "execution_count": 1,
   "id": "863db775-3e63-4ee0-af36-42379c9d71d1",
   "metadata": {},
   "outputs": [],
   "source": [
    "import pandas as pd\n",
    "import numpy as np\n",
    "import matplotlib.pyplot as plt\n",
    "import seaborn as sns\n",
    "from sklearn.impute import SimpleImputer\n",
    "from sklearn.impute import KNNImputer\n",
    "from sklearn.model_selection import train_test_split\n",
    "from sklearn.preprocessing import StandardScaler\n",
    "from imblearn.over_sampling import ADASYN\n",
    "from sklearn.linear_model import LogisticRegression\n",
    "from sklearn.metrics import accuracy_score, classification_report, confusion_matrix"
   ]
  },
  {
   "cell_type": "code",
   "execution_count": 2,
   "id": "cf2fe7a6-10d2-4283-b287-4184e622b90f",
   "metadata": {},
   "outputs": [],
   "source": [
    "df = pd.read_csv(\"D:\\\\project cuối khóa SIC\\\\diabetes.csv\")"
   ]
  },
  {
   "cell_type": "code",
   "execution_count": 3,
   "id": "b9c032c1-7845-4f3b-89c9-7b166b09e36c",
   "metadata": {},
   "outputs": [],
   "source": [
    "#thay giá trị 0 của (glucose, bloodpressure, skinthickness, BMI, insulin) sang NaN  \n",
    "replaced_columns = ['Glucose', 'BloodPressure','SkinThickness','BMI','Insulin']\n",
    "df[replaced_columns] = df[replaced_columns].replace(0, np.nan)"
   ]
  },
  {
   "cell_type": "code",
   "execution_count": 4,
   "id": "3e039c28-661d-47be-8909-83a0239ad0cb",
   "metadata": {},
   "outputs": [],
   "source": [
    "#Xử lý outlier\n",
    "\n",
    "from scipy import stats\n",
    "\n",
    "#Z_score\n",
    "def remove_outliers_zscore(df, columns, threshold=3):\n",
    "    df_cleaned = df.copy()\n",
    "    for col in columns:\n",
    "        # Tính z-score cho các giá trị không null\n",
    "        z_scores = stats.zscore(df_cleaned[col].dropna())\n",
    "        abs_z_scores = np.abs(z_scores)\n",
    "        # Xác định outliers\n",
    "        upper_outliers = z_scores > threshold\n",
    "        lower_outliers = z_scores < -threshold\n",
    "        non_outliers = (abs_z_scores <= threshold)  # Không phải outliers\n",
    "        # Lấy giá trị max và min của các giá trị không phải outliers\n",
    "        max_non_outlier_value = df_cleaned[col].dropna()[non_outliers].max()\n",
    "        min_non_outlier_value = df_cleaned[col].dropna()[non_outliers].min()\n",
    "        # Thay thế outliers ở khoảng trên bằng max_non_outlier_value\n",
    "        upper_outliers_indices = df_cleaned[col].dropna().index[upper_outliers]\n",
    "        df_cleaned.loc[upper_outliers_indices, col] = max_non_outlier_value       \n",
    "        # Thay thế outliers ở khoảng dưới bằng min_non_outlier_value\n",
    "        lower_outliers_indices = df_cleaned[col].dropna().index[lower_outliers]\n",
    "        df_cleaned.loc[lower_outliers_indices, col] = min_non_outlier_value\n",
    "    return df_cleaned\n",
    "\n",
    "columns_zscore = ['Glucose', 'BloodPressure', 'SkinThickness', 'BMI']\n",
    "df = remove_outliers_zscore(df, columns_zscore, threshold=3)\n",
    "\n",
    "#IQR\n",
    "def remove_outliers_iqr(df, columns, factor=1.5):\n",
    "    df_cleaned = df.copy()\n",
    "    for col in columns:\n",
    "        Q1 = df_cleaned[col].quantile(0.25)\n",
    "        Q3 = df_cleaned[col].quantile(0.75)\n",
    "        IQR = Q3 - Q1\n",
    "        lower_bound = Q1 - (IQR * factor)\n",
    "        upper_bound = Q3 + (IQR * factor)  \n",
    "        # Xác định các giá trị không phải outliers\n",
    "        non_outliers = (df_cleaned[col] >= lower_bound) & (df_cleaned[col] <= upper_bound)\n",
    "        # Lấy giá trị max của các giá trị không phải outliers\n",
    "        max_non_outlier_value = df_cleaned[col].dropna()[non_outliers].max()\n",
    "        # Xác định outliers và thay thế bằng max_non_outlier_value\n",
    "        outliers = (df_cleaned[col] < lower_bound) | (df_cleaned[col] > upper_bound)\n",
    "        df_cleaned.loc[outliers, col] = max_non_outlier_value\n",
    "    return df_cleaned\n",
    "\n",
    "columns_iqr = ['Pregnancies', 'Insulin', 'DiabetesPedigreeFunction', 'Age']\n",
    "df = remove_outliers_iqr(df, columns_iqr, factor=1.5)"
   ]
  },
  {
   "cell_type": "code",
   "execution_count": 5,
   "id": "115bf6a7-570d-4ee7-9778-0cec6c6dcb31",
   "metadata": {},
   "outputs": [],
   "source": [
    "#split x(input) và y(output)\n",
    "X = df.iloc[:, :-1].values\n",
    "y = df.iloc[:, -1].values"
   ]
  },
  {
   "cell_type": "code",
   "execution_count": 6,
   "id": "9a49cb6f-66ae-461d-ad7e-43d71c4a7392",
   "metadata": {},
   "outputs": [],
   "source": [
    "# Điền giá trị trung bình cho cột glucose (cột 1)\n",
    "imputer_mean = SimpleImputer(missing_values=np.nan, strategy=\"mean\")\n",
    "X[:, 1] = imputer_mean.fit_transform(X[:, [1]]).ravel()\n",
    "\n",
    "#Xóa hàng null trong columns BMI \n",
    "mask = ~np.isnan(X[:, 5])  # Tạo mask để kiểm tra hàng nào có giá trị null trong cột BMI (cột 5)\n",
    "      # Áp dụng mask lên cả X và y để đảm bảo đồng bộ\n",
    "X = X[mask]\n",
    "y = y[mask]\n",
    "\n",
    "# Khởi tạo KNNImputer cho các cột Bloodpressure (2), Skinthickness (3), và Insulin (4)\n",
    "knn_imputer = KNNImputer(n_neighbors=5)\n",
    "X[:, [2, 3, 4]] = knn_imputer.fit_transform(X[:, [2, 3, 4]])"
   ]
  },
  {
   "cell_type": "code",
   "execution_count": 7,
   "id": "cc3bd1d7-154c-42ad-b3c4-9b6112370221",
   "metadata": {},
   "outputs": [],
   "source": [
    "#Split dataset thành train_set(85%) và test_set(15%)\n",
    "np.random.seed(101)\n",
    "X_train, X_test, y_train, y_test = train_test_split(X, y, test_size=0.15)"
   ]
  },
  {
   "cell_type": "code",
   "execution_count": 8,
   "id": "a2a8be76-db88-4116-8d6d-4e5870cf4abf",
   "metadata": {},
   "outputs": [],
   "source": [
    "#Chuẩn hóa dữ liệu (feature scaling)\n",
    "sc = StandardScaler()\n",
    "X_train[:, [0, 1, 2, 3, 4, 5, 6, 7]] = sc.fit_transform(X_train[:, [0, 1, 2, 3, 4, 5, 6, 7]])\n",
    "X_test[:, [0, 1, 2, 3, 4, 5, 6, 7]] = sc.transform(X_test[:, [0, 1, 2, 3, 4, 5, 6, 7]])"
   ]
  },
  {
   "cell_type": "code",
   "execution_count": 9,
   "id": "ae57b455-39d4-4eab-9217-4456a69a16db",
   "metadata": {},
   "outputs": [],
   "source": [
    "#Cân bằng data\n",
    "# Khởi tạo ADASYN với tỷ lệ sampling_strategy (cân bằng data)\n",
    "adasyn = ADASYN(sampling_strategy='auto', n_neighbors=5, random_state=101)\n",
    "# Áp dụng ADASYN để tạo thêm các mẫu tổng hợp từ tập huấn luyện\n",
    "X_train_resampled, y_train_resampled = adasyn.fit_resample(X_train, y_train)"
   ]
  },
  {
   "cell_type": "code",
   "execution_count": 10,
   "id": "9313afaf-259a-4b05-9e82-51ae68a62cd4",
   "metadata": {},
   "outputs": [],
   "source": [
    "# Khởi tạo mô hình Logistic Regression\n",
    "logreg = LogisticRegression(random_state=101, max_iter=1000)"
   ]
  },
  {
   "cell_type": "code",
   "execution_count": 11,
   "id": "d9e344d6-36e0-4baf-97ef-847ec1d89cb8",
   "metadata": {},
   "outputs": [
    {
     "data": {
      "text/html": [
       "<style>#sk-container-id-1 {color: black;}#sk-container-id-1 pre{padding: 0;}#sk-container-id-1 div.sk-toggleable {background-color: white;}#sk-container-id-1 label.sk-toggleable__label {cursor: pointer;display: block;width: 100%;margin-bottom: 0;padding: 0.3em;box-sizing: border-box;text-align: center;}#sk-container-id-1 label.sk-toggleable__label-arrow:before {content: \"▸\";float: left;margin-right: 0.25em;color: #696969;}#sk-container-id-1 label.sk-toggleable__label-arrow:hover:before {color: black;}#sk-container-id-1 div.sk-estimator:hover label.sk-toggleable__label-arrow:before {color: black;}#sk-container-id-1 div.sk-toggleable__content {max-height: 0;max-width: 0;overflow: hidden;text-align: left;background-color: #f0f8ff;}#sk-container-id-1 div.sk-toggleable__content pre {margin: 0.2em;color: black;border-radius: 0.25em;background-color: #f0f8ff;}#sk-container-id-1 input.sk-toggleable__control:checked~div.sk-toggleable__content {max-height: 200px;max-width: 100%;overflow: auto;}#sk-container-id-1 input.sk-toggleable__control:checked~label.sk-toggleable__label-arrow:before {content: \"▾\";}#sk-container-id-1 div.sk-estimator input.sk-toggleable__control:checked~label.sk-toggleable__label {background-color: #d4ebff;}#sk-container-id-1 div.sk-label input.sk-toggleable__control:checked~label.sk-toggleable__label {background-color: #d4ebff;}#sk-container-id-1 input.sk-hidden--visually {border: 0;clip: rect(1px 1px 1px 1px);clip: rect(1px, 1px, 1px, 1px);height: 1px;margin: -1px;overflow: hidden;padding: 0;position: absolute;width: 1px;}#sk-container-id-1 div.sk-estimator {font-family: monospace;background-color: #f0f8ff;border: 1px dotted black;border-radius: 0.25em;box-sizing: border-box;margin-bottom: 0.5em;}#sk-container-id-1 div.sk-estimator:hover {background-color: #d4ebff;}#sk-container-id-1 div.sk-parallel-item::after {content: \"\";width: 100%;border-bottom: 1px solid gray;flex-grow: 1;}#sk-container-id-1 div.sk-label:hover label.sk-toggleable__label {background-color: #d4ebff;}#sk-container-id-1 div.sk-serial::before {content: \"\";position: absolute;border-left: 1px solid gray;box-sizing: border-box;top: 0;bottom: 0;left: 50%;z-index: 0;}#sk-container-id-1 div.sk-serial {display: flex;flex-direction: column;align-items: center;background-color: white;padding-right: 0.2em;padding-left: 0.2em;position: relative;}#sk-container-id-1 div.sk-item {position: relative;z-index: 1;}#sk-container-id-1 div.sk-parallel {display: flex;align-items: stretch;justify-content: center;background-color: white;position: relative;}#sk-container-id-1 div.sk-item::before, #sk-container-id-1 div.sk-parallel-item::before {content: \"\";position: absolute;border-left: 1px solid gray;box-sizing: border-box;top: 0;bottom: 0;left: 50%;z-index: -1;}#sk-container-id-1 div.sk-parallel-item {display: flex;flex-direction: column;z-index: 1;position: relative;background-color: white;}#sk-container-id-1 div.sk-parallel-item:first-child::after {align-self: flex-end;width: 50%;}#sk-container-id-1 div.sk-parallel-item:last-child::after {align-self: flex-start;width: 50%;}#sk-container-id-1 div.sk-parallel-item:only-child::after {width: 0;}#sk-container-id-1 div.sk-dashed-wrapped {border: 1px dashed gray;margin: 0 0.4em 0.5em 0.4em;box-sizing: border-box;padding-bottom: 0.4em;background-color: white;}#sk-container-id-1 div.sk-label label {font-family: monospace;font-weight: bold;display: inline-block;line-height: 1.2em;}#sk-container-id-1 div.sk-label-container {text-align: center;}#sk-container-id-1 div.sk-container {/* jupyter's `normalize.less` sets `[hidden] { display: none; }` but bootstrap.min.css set `[hidden] { display: none !important; }` so we also need the `!important` here to be able to override the default hidden behavior on the sphinx rendered scikit-learn.org. See: https://github.com/scikit-learn/scikit-learn/issues/21755 */display: inline-block !important;position: relative;}#sk-container-id-1 div.sk-text-repr-fallback {display: none;}</style><div id=\"sk-container-id-1\" class=\"sk-top-container\"><div class=\"sk-text-repr-fallback\"><pre>LogisticRegression(max_iter=1000, random_state=101)</pre><b>In a Jupyter environment, please rerun this cell to show the HTML representation or trust the notebook. <br />On GitHub, the HTML representation is unable to render, please try loading this page with nbviewer.org.</b></div><div class=\"sk-container\" hidden><div class=\"sk-item\"><div class=\"sk-estimator sk-toggleable\"><input class=\"sk-toggleable__control sk-hidden--visually\" id=\"sk-estimator-id-1\" type=\"checkbox\" checked><label for=\"sk-estimator-id-1\" class=\"sk-toggleable__label sk-toggleable__label-arrow\">LogisticRegression</label><div class=\"sk-toggleable__content\"><pre>LogisticRegression(max_iter=1000, random_state=101)</pre></div></div></div></div></div>"
      ],
      "text/plain": [
       "LogisticRegression(max_iter=1000, random_state=101)"
      ]
     },
     "execution_count": 11,
     "metadata": {},
     "output_type": "execute_result"
    }
   ],
   "source": [
    "# Đưa data đã xử lý vào model\n",
    "logreg.fit(X_train_resampled, y_train_resampled)"
   ]
  },
  {
   "cell_type": "code",
   "execution_count": 12,
   "id": "9ccd6b8e-a91c-4ee3-8f8f-a1676bf5cad3",
   "metadata": {},
   "outputs": [
    {
     "data": {
      "text/plain": [
       "['scaler.pkl']"
      ]
     },
     "execution_count": 12,
     "metadata": {},
     "output_type": "execute_result"
    }
   ],
   "source": [
    "import joblib\n",
    "\n",
    "# Giả sử bạn đã có một mô hình đã được huấn luyện\n",
    "# logreg = LogisticRegression(random_state=101, max_iter=1000)\n",
    "# logreg.fit(X_train_resampled, y_train_resampled)\n",
    "# Lưu mô hình\n",
    "joblib.dump(logreg, 'logreg_model.pkl')\n",
    "# Lưu scaler nếu bạn sử dụng chuẩn hóa\n",
    "joblib.dump(sc, 'scaler.pkl')"
   ]
  },
  {
   "cell_type": "code",
   "execution_count": 13,
   "id": "73f8324a-dff6-4627-a987-dc8e7c5c93d6",
   "metadata": {},
   "outputs": [
    {
     "name": "stdout",
     "output_type": "stream",
     "text": [
      "\n",
      "________________________Hãy nhập các chỉ số của bệnh nhân ở bên dưới:_______________________\n"
     ]
    },
    {
     "name": "stdin",
     "output_type": "stream",
     "text": [
      "Số lần mang thai:  1\n",
      "Chỉ số đường huyết (OGTT):  89\n",
      "Huyết áp tâm trương (mmHg):  66\n",
      "Độ dày nếp gấp da ở cơ tam đầu (mm):   23\n",
      "Nồng độ Insulin (μU/mL):  94\n",
      "Chỉ số BMI (kg/m2):  28.1\n",
      "Diabetes Pedigree Function:  0.167\n",
      "Tuổi:  21\n"
     ]
    },
    {
     "name": "stdout",
     "output_type": "stream",
     "text": [
      "\n",
      "____________________________________Các chỉ số đã nhập:______________________________________\n",
      "Số lần mang thai: 1\n",
      "Chỉ số đường huyết (OGTT): 89\n",
      "Huyết áp tâm trương (mmHg): 66\n",
      "Độ dày nếp gấp da ở cơ tam đầu (mm): 23\n",
      "Nồng độ Insulin (μU/mL): 94\n",
      "Chỉ số BMI (kg/m2): 28.1\n",
      "Diabetes Pedigree Function: 0.167\n",
      "Tuổi: 21\n",
      "\n",
      "_____________________________________________________________________________________________\n",
      "\n",
      "Dự đoán tình trạng bệnh tiểu đường (1(dương tính), 0(âm tính): 0\n"
     ]
    }
   ],
   "source": [
    "# Tải mô hình và scaler đã lưu\n",
    "logreg = joblib.load('logreg_model.pkl')\n",
    "sc = joblib.load('scaler.pkl')\n",
    "\n",
    "# Nhập chỉ số bệnh nhân mới và dự đoán\n",
    "print(\"\\n________________________Hãy nhập các chỉ số của bệnh nhân ở bên dưới:_______________________\")\n",
    "pregnancies = input(\"Số lần mang thai: \")\n",
    "glucose = input(\"Chỉ số đường huyết (OGTT): \")\n",
    "blood_pressure = input(\"Huyết áp tâm trương (mmHg): \")\n",
    "skin_thickness = input(\"Độ dày nếp gấp da ở cơ tam đầu (mm):  \")\n",
    "insulin = input(\"Nồng độ Insulin (μU/mL): \")\n",
    "bmi = input(\"Chỉ số BMI (kg/m2): \")\n",
    "diabetes_pedigree_function = input(\"Diabetes Pedigree Function: \")\n",
    "age = input(\"Tuổi: \")\n",
    "\n",
    "print(\"\\n____________________________________Các chỉ số đã nhập:______________________________________\")\n",
    "print(f\"Số lần mang thai: {pregnancies}\")\n",
    "print(f\"Chỉ số đường huyết (OGTT): {glucose}\")\n",
    "print(f\"Huyết áp tâm trương (mmHg): {blood_pressure}\")\n",
    "print(f\"Độ dày nếp gấp da ở cơ tam đầu (mm): {skin_thickness}\")\n",
    "print(f\"Nồng độ Insulin (μU/mL): {insulin}\")\n",
    "print(f\"Chỉ số BMI (kg/m2): {bmi}\")\n",
    "print(f\"Diabetes Pedigree Function: {diabetes_pedigree_function}\")\n",
    "print(f\"Tuổi: {age}\")\n",
    "\n",
    "# Tạo mảng numpy từ dữ liệu nhập vào\n",
    "new_data = np.array([[int(pregnancies), float(glucose), float(blood_pressure), float(skin_thickness), \n",
    "                      float(insulin), float(bmi), float(diabetes_pedigree_function), int(age)]])\n",
    "\n",
    "# Chuẩn hóa dữ liệu mới\n",
    "new_data_scaled = sc.transform(new_data)\n",
    "\n",
    "# Dự đoán\n",
    "predicted_value = logreg.predict(new_data_scaled)\n",
    "print(\"\\n_____________________________________________________________________________________________\")\n",
    "print(f\"\\nDự đoán tình trạng bệnh tiểu đường (1(dương tính), 0(âm tính): {predicted_value[0]}\")"
   ]
  },
  {
   "cell_type": "code",
   "execution_count": null,
   "id": "e42880aa-4cf2-478b-9c35-77fee143871b",
   "metadata": {},
   "outputs": [],
   "source": []
  }
 ],
 "metadata": {
  "kernelspec": {
   "display_name": "Python 3 (ipykernel)",
   "language": "python",
   "name": "python3"
  },
  "language_info": {
   "codemirror_mode": {
    "name": "ipython",
    "version": 3
   },
   "file_extension": ".py",
   "mimetype": "text/x-python",
   "name": "python",
   "nbconvert_exporter": "python",
   "pygments_lexer": "ipython3",
   "version": "3.8.10"
  }
 },
 "nbformat": 4,
 "nbformat_minor": 5
}
